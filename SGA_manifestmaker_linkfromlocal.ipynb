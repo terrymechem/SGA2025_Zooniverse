{
 "cells": [
  {
   "cell_type": "code",
   "execution_count": 33,
   "id": "43e43392-1e92-4c18-a1ef-43a565b6f28f",
   "metadata": {},
   "outputs": [],
   "source": [
    "from astropy.table import Table\n",
    "import glob\n",
    "\n",
    "#creates csv table with columns = id, file name, SGA name (J___)\n",
    "id = []\n",
    "linkname = []\n",
    "galaxy = []\n",
    "\n",
    "i = 0\n",
    "\n",
    "files = glob.glob('/Users/terrymechem/Downloads/SGA2025-dataset1/north/annotate/**/*.png', \n",
    "                   recursive = True)\n",
    "\n",
    "for file in files:\n",
    "    id.append(i)    #the ids are arbitrary\n",
    "    #a,b,c,d,e,f,g,h, name = (file.split('/'))  #a-h are throwaway variables, ignore them\n",
    "    #print(name)  #\n",
    "    #filename.append(name)\n",
    "    link = file.replace('/Users/terrymechem/Downloads','https://portal.nersc.gov/project/cosmo/temp/ioannis')\n",
    "    linkname.append(link)####  #for full path\n",
    "    #gal = (name.strip('SGA2025_')).strip('.png')\n",
    "    a, gal = (file.split('SGA2025_'))####  #for full path\n",
    "    gal = gal.strip('.png')\n",
    "    #print(gal)  #\n",
    "    galaxy.append(gal)\n",
    "\n",
    "    i += 1\n",
    "\n",
    "#print(f'{id} \\n {linkname} \\n {galaxy}')  #\n",
    "\n",
    "t = Table([id, linkname, galaxy], names=('#id','#linkname','galaxy'), meta={'name': 'SGA2025 Manifest'})\n",
    "#the #'s in the column names are an aspect of Zooniverse manifests; if there's a # or $,\n",
    "#it hides those columns from the volunteer in the subject info. I kept 'galaxy' available just in case\n",
    "\n",
    "#print(t)  #\n",
    "\n",
    "t.write('SGA2025_Manifest_links.csv', overwrite=True)"
   ]
  },
  {
   "cell_type": "code",
   "execution_count": null,
   "id": "051f6f96-726f-4e55-88e4-db9b91053389",
   "metadata": {},
   "outputs": [],
   "source": []
  }
 ],
 "metadata": {
  "kernelspec": {
   "display_name": "Python 3 (ipykernel)",
   "language": "python",
   "name": "python3"
  },
  "language_info": {
   "codemirror_mode": {
    "name": "ipython",
    "version": 3
   },
   "file_extension": ".py",
   "mimetype": "text/x-python",
   "name": "python",
   "nbconvert_exporter": "python",
   "pygments_lexer": "ipython3",
   "version": "3.11.5"
  }
 },
 "nbformat": 4,
 "nbformat_minor": 5
}
