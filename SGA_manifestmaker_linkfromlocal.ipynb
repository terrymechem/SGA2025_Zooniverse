{
 "cells": [
  {
   "cell_type": "code",
   "execution_count": 27,
   "id": "43e43392-1e92-4c18-a1ef-43a565b6f28f",
   "metadata": {},
   "outputs": [
    {
     "ename": "OSError",
     "evalue": "File SGA2025_Manifest_links.csv already exists. If you mean to replace it then use the argument \"overwrite=True\".",
     "output_type": "error",
     "traceback": [
      "\u001b[0;31m---------------------------------------------------------------------------\u001b[0m",
      "\u001b[0;31mOSError\u001b[0m                                   Traceback (most recent call last)",
      "Cell \u001b[0;32mIn[27], line 37\u001b[0m\n\u001b[1;32m     31\u001b[0m t \u001b[38;5;241m=\u001b[39m Table([\u001b[38;5;28mid\u001b[39m, linkname, galaxy], names\u001b[38;5;241m=\u001b[39m(\u001b[38;5;124m'\u001b[39m\u001b[38;5;124m#id\u001b[39m\u001b[38;5;124m'\u001b[39m,\u001b[38;5;124m'\u001b[39m\u001b[38;5;124m#linkname\u001b[39m\u001b[38;5;124m'\u001b[39m,\u001b[38;5;124m'\u001b[39m\u001b[38;5;124mgalaxy\u001b[39m\u001b[38;5;124m'\u001b[39m), meta\u001b[38;5;241m=\u001b[39m{\u001b[38;5;124m'\u001b[39m\u001b[38;5;124mname\u001b[39m\u001b[38;5;124m'\u001b[39m: \u001b[38;5;124m'\u001b[39m\u001b[38;5;124mSGA2025 Manifest\u001b[39m\u001b[38;5;124m'\u001b[39m})\n\u001b[1;32m     32\u001b[0m \u001b[38;5;66;03m#the #'s in the column names are an aspect of Zooniverse manifests; if there's a # or $,\u001b[39;00m\n\u001b[1;32m     33\u001b[0m \u001b[38;5;66;03m#it hides those columns from the volunteer in the subject info. I kept 'galaxy' available just in case\u001b[39;00m\n\u001b[1;32m     34\u001b[0m \n\u001b[1;32m     35\u001b[0m \u001b[38;5;66;03m#print(t)  #\u001b[39;00m\n\u001b[0;32m---> 37\u001b[0m t\u001b[38;5;241m.\u001b[39mwrite(\u001b[38;5;124m'\u001b[39m\u001b[38;5;124mSGA2025_Manifest_links.csv\u001b[39m\u001b[38;5;124m'\u001b[39m)\n",
      "File \u001b[0;32m~/anaconda3/lib/python3.11/site-packages/astropy/table/connect.py:129\u001b[0m, in \u001b[0;36mTableWrite.__call__\u001b[0;34m(self, serialize_method, *args, **kwargs)\u001b[0m\n\u001b[1;32m    127\u001b[0m instance \u001b[38;5;241m=\u001b[39m \u001b[38;5;28mself\u001b[39m\u001b[38;5;241m.\u001b[39m_instance\n\u001b[1;32m    128\u001b[0m \u001b[38;5;28;01mwith\u001b[39;00m serialize_method_as(instance, serialize_method):\n\u001b[0;32m--> 129\u001b[0m     \u001b[38;5;28mself\u001b[39m\u001b[38;5;241m.\u001b[39mregistry\u001b[38;5;241m.\u001b[39mwrite(instance, \u001b[38;5;241m*\u001b[39margs, \u001b[38;5;241m*\u001b[39m\u001b[38;5;241m*\u001b[39mkwargs)\n",
      "File \u001b[0;32m~/anaconda3/lib/python3.11/site-packages/astropy/io/registry/core.py:369\u001b[0m, in \u001b[0;36mUnifiedOutputRegistry.write\u001b[0;34m(self, data, format, *args, **kwargs)\u001b[0m\n\u001b[1;32m    365\u001b[0m     \u001b[38;5;28mformat\u001b[39m \u001b[38;5;241m=\u001b[39m \u001b[38;5;28mself\u001b[39m\u001b[38;5;241m.\u001b[39m_get_valid_format(\n\u001b[1;32m    366\u001b[0m         \u001b[38;5;124m'\u001b[39m\u001b[38;5;124mwrite\u001b[39m\u001b[38;5;124m'\u001b[39m, data\u001b[38;5;241m.\u001b[39m\u001b[38;5;18m__class__\u001b[39m, path, fileobj, args, kwargs)\n\u001b[1;32m    368\u001b[0m writer \u001b[38;5;241m=\u001b[39m \u001b[38;5;28mself\u001b[39m\u001b[38;5;241m.\u001b[39mget_writer(\u001b[38;5;28mformat\u001b[39m, data\u001b[38;5;241m.\u001b[39m\u001b[38;5;18m__class__\u001b[39m)\n\u001b[0;32m--> 369\u001b[0m \u001b[38;5;28;01mreturn\u001b[39;00m writer(data, \u001b[38;5;241m*\u001b[39margs, \u001b[38;5;241m*\u001b[39m\u001b[38;5;241m*\u001b[39mkwargs)\n",
      "File \u001b[0;32m~/anaconda3/lib/python3.11/site-packages/astropy/io/ascii/connect.py:26\u001b[0m, in \u001b[0;36mio_write\u001b[0;34m(format, table, filename, **kwargs)\u001b[0m\n\u001b[1;32m     24\u001b[0m     \u001b[38;5;28mformat\u001b[39m \u001b[38;5;241m=\u001b[39m re\u001b[38;5;241m.\u001b[39msub(\u001b[38;5;124mr\u001b[39m\u001b[38;5;124m'\u001b[39m\u001b[38;5;124m^ascii\u001b[39m\u001b[38;5;124m\\\u001b[39m\u001b[38;5;124m.\u001b[39m\u001b[38;5;124m'\u001b[39m, \u001b[38;5;124m'\u001b[39m\u001b[38;5;124m'\u001b[39m, \u001b[38;5;28mformat\u001b[39m)\n\u001b[1;32m     25\u001b[0m     kwargs[\u001b[38;5;124m'\u001b[39m\u001b[38;5;124mformat\u001b[39m\u001b[38;5;124m'\u001b[39m] \u001b[38;5;241m=\u001b[39m \u001b[38;5;28mformat\u001b[39m\n\u001b[0;32m---> 26\u001b[0m \u001b[38;5;28;01mreturn\u001b[39;00m write(table, filename, \u001b[38;5;241m*\u001b[39m\u001b[38;5;241m*\u001b[39mkwargs)\n",
      "File \u001b[0;32m~/anaconda3/lib/python3.11/site-packages/astropy/io/ascii/ui.py:827\u001b[0m, in \u001b[0;36mwrite\u001b[0;34m(table, output, format, Writer, fast_writer, overwrite, **kwargs)\u001b[0m\n\u001b[1;32m    825\u001b[0m     output \u001b[38;5;241m=\u001b[39m os\u001b[38;5;241m.\u001b[39mpath\u001b[38;5;241m.\u001b[39mexpanduser(output)\n\u001b[1;32m    826\u001b[0m     \u001b[38;5;28;01mif\u001b[39;00m \u001b[38;5;129;01mnot\u001b[39;00m overwrite \u001b[38;5;129;01mand\u001b[39;00m os\u001b[38;5;241m.\u001b[39mpath\u001b[38;5;241m.\u001b[39mlexists(output):\n\u001b[0;32m--> 827\u001b[0m         \u001b[38;5;28;01mraise\u001b[39;00m \u001b[38;5;167;01mOSError\u001b[39;00m(NOT_OVERWRITING_MSG\u001b[38;5;241m.\u001b[39mformat(output))\n\u001b[1;32m    829\u001b[0m \u001b[38;5;28;01mif\u001b[39;00m output \u001b[38;5;129;01mis\u001b[39;00m \u001b[38;5;28;01mNone\u001b[39;00m:\n\u001b[1;32m    830\u001b[0m     output \u001b[38;5;241m=\u001b[39m sys\u001b[38;5;241m.\u001b[39mstdout\n",
      "\u001b[0;31mOSError\u001b[0m: File SGA2025_Manifest_links.csv already exists. If you mean to replace it then use the argument \"overwrite=True\"."
     ]
    }
   ],
   "source": [
    "from astropy.table import Table\n",
    "import glob\n",
    "\n",
    "#creates csv table with columns = id, file name, SGA name (J___)\n",
    "id = []\n",
    "linkname = []\n",
    "galaxy = []\n",
    "\n",
    "i = 0\n",
    "\n",
    "files = glob.glob('/Users/terrymechem/Downloads/SGA2025-dataset1/north/annotate/**/*.png', \n",
    "                   recursive = True)\n",
    "\n",
    "for file in files:\n",
    "    id.append(i)    #the ids are arbitrary\n",
    "    #a,b,c,d,e,f,g,h, name = (file.split('/'))  #a-h are throwaway variables, ignore them\n",
    "    #print(name)  #\n",
    "    #filename.append(name)\n",
    "    link = file.replace('/Users/terrymechem/Downloads','https://portal.nersc.gov/project/cosmo/temp/ioannis')\n",
    "    linkname.append(link)####  #for full path\n",
    "    #gal = (name.strip('SGA2025_')).strip('.png')\n",
    "    a, gal = (file.split('SGA2025_'))####  #for full path\n",
    "    gal = gal.strip('.png')\n",
    "    #print(gal)  #\n",
    "    galaxy.append(gal)\n",
    "\n",
    "    i += 1\n",
    "\n",
    "#print(f'{id} \\n {linkname} \\n {galaxy}')  #\n",
    "\n",
    "t = Table([id, linkname, galaxy], names=('#id','#linkname','galaxy'), meta={'name': 'SGA2025 Manifest'})\n",
    "#the #'s in the column names are an aspect of Zooniverse manifests; if there's a # or $,\n",
    "#it hides those columns from the volunteer in the subject info. I kept 'galaxy' available just in case\n",
    "\n",
    "#print(t)  #\n",
    "\n",
    "t.write('SGA2025_Manifest_links.csv')"
   ]
  },
  {
   "cell_type": "code",
   "execution_count": null,
   "id": "4d4a29db-8e4b-4244-9dd0-312249760ffe",
   "metadata": {},
   "outputs": [],
   "source": []
  }
 ],
 "metadata": {
  "kernelspec": {
   "display_name": "Python 3 (ipykernel)",
   "language": "python",
   "name": "python3"
  },
  "language_info": {
   "codemirror_mode": {
    "name": "ipython",
    "version": 3
   },
   "file_extension": ".py",
   "mimetype": "text/x-python",
   "name": "python",
   "nbconvert_exporter": "python",
   "pygments_lexer": "ipython3",
   "version": "3.11.5"
  }
 },
 "nbformat": 4,
 "nbformat_minor": 5
}
