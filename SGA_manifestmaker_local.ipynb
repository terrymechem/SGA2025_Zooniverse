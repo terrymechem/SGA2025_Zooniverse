{
 "cells": [
  {
   "cell_type": "code",
   "execution_count": 1,
   "id": "be68292b-b004-4f87-b3d2-f144aab12bcb",
   "metadata": {},
   "outputs": [],
   "source": [
    "from astropy.table import Table\n",
    "import glob\n",
    "\n",
    "#creates csv table with columns = id, file name, SGA name (J___)\n",
    "id = []\n",
    "filename = []\n",
    "galaxy = []\n",
    "\n",
    "i = 0\n",
    "\n",
    "files = glob.glob('/Users/terrymechem/Downloads/SGA2025-dataset1/north/annotate/**/*.png', \n",
    "                   recursive = True)\n",
    "\n",
    "for file in files:\n",
    "    id.append(i)    #the ids are arbitrary\n",
    "    #a,b,c,d,e,f,g,h, name = (file.split('/'))  #a-h are throwaway variables, ignore them\n",
    "    #print(name)  #\n",
    "    #filename.append(name)\n",
    "    filename.append(file)####  #for full path\n",
    "    #gal = (name.strip('SGA2025_')).strip('.png')\n",
    "    gal = (file.strip('SGA2025_')).strip('.png')####  #for full path\n",
    "    #print(gal)  #\n",
    "    galaxy.append(gal)\n",
    "\n",
    "    i += 1\n",
    "\n",
    "#print(f'{id} \\n {filename} \\n {galaxy}')  #\n",
    "\n",
    "t = Table([id, filename, galaxy], names=('#id','#filename','galaxy'), meta={'name': 'SGA2025 Manifest'})\n",
    "#the #'s in the column names are an aspect of Zooniverse manifests; if there's a # or $,\n",
    "#it hides those columns from the volunteer in the subject info. I kept 'galaxy' available just in case\n",
    "\n",
    "#print(t)  #\n",
    "\n",
    "t.write('SGA2025_Manifest_local.csv', overwrite=True)"
   ]
  },
  {
   "cell_type": "code",
   "execution_count": null,
   "id": "23399642-cd1d-43aa-8f95-0a13fa2d1a6e",
   "metadata": {},
   "outputs": [],
   "source": []
  }
 ],
 "metadata": {
  "kernelspec": {
   "display_name": "Python 3 (ipykernel)",
   "language": "python",
   "name": "python3"
  },
  "language_info": {
   "codemirror_mode": {
    "name": "ipython",
    "version": 3
   },
   "file_extension": ".py",
   "mimetype": "text/x-python",
   "name": "python",
   "nbconvert_exporter": "python",
   "pygments_lexer": "ipython3",
   "version": "3.11.5"
  }
 },
 "nbformat": 4,
 "nbformat_minor": 5
}
