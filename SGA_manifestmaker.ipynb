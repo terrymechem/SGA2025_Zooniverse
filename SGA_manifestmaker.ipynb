{
 "cells": [
  {
   "cell_type": "code",
   "execution_count": 41,
   "id": "be68292b-b004-4f87-b3d2-f144aab12bcb",
   "metadata": {},
   "outputs": [
    {
     "name": "stdout",
     "output_type": "stream",
     "text": [
      "[0, 1, 2, 3, 4, 5, 6, 7, 8, 9, 10, 11, 12, 13, 14, 15, 16, 17, 18, 19, 20, 21, 22, 23, 24, 25, 26, 27, 28, 29, 30, 31, 32, 33, 34, 35, 36, 37, 38, 39, 40, 41, 42, 43, 44, 45, 46, 47, 48, 49, 50, 51, 52, 53, 54, 55] \n",
      " ['SGA2025_J157.0930+68.4160.png', 'SGA2025_J150.4908+55.6797.png', 'SGA2025_J150.8375+68.7338.png', 'SGA2025_J192.7210+41.1204.png', 'SGA2025_J133.1722+33.4217.png', 'SGA2025_J167.4610+33.3018.png', 'SGA2025_J210.8022+54.3489.png', 'SGA2025_J228.9740+56.3287.png', 'SGA2025_J040.6696-00.0132.png', 'SGA2025_J040.4384+00.4431.png', 'SGA2025_J260.0684+57.9185.png', 'SGA2025_J267.3649+70.1447.png', 'SGA2025_J202.4695+47.2344.png', 'SGA2025_J202.4946+47.2680.png', 'SGA2025_J233.5102+56.6856.png', 'SGA2025_J180.7900+44.5313.png', 'SGA2025_J187.6509+41.6438.png', 'SGA2025_J173.3380+47.0291.png', 'SGA2025_J189.9974+61.6091.png', 'SGA2025_J111.7668+80.1780.png', 'SGA2025_J181.5047+47.4784.png', 'SGA2025_J181.3924+50.5390.png', 'SGA2025_J198.0524+44.0412.png', 'SGA2025_J198.9555+42.0292.png', 'SGA2025_J198.3644+36.5939.png', 'SGA2025_J154.5702+41.4240.png', 'SGA2025_J154.9789+45.5496.png', 'SGA2025_J196.4554+37.6058.png', 'SGA2025_J190.9905+32.1681.png', 'SGA2025_J190.5333+32.5415.png', 'SGA2025_J163.1297+36.6187.png', 'SGA2025_J137.9062+60.0372.png', 'SGA2025_J213.8919+36.2265.png', 'SGA2025_J207.3136+60.1905.png', 'SGA2025_J237.8551+62.3100.png', 'SGA2025_J094.6571+78.3570.png', 'SGA2025_J124.7666+70.7141.png', 'SGA2025_J184.3745+37.8075.png', 'SGA2025_J184.1804+69.4655.png', 'SGA2025_J184.7395+47.3039.png', 'SGA2025_J183.9132+36.3274.png', 'SGA2025_J183.9620+47.0917.png', 'SGA2025_J148.9697+69.6793.png', 'SGA2025_J148.8882+69.0653.png', 'SGA2025_J146.8150+67.9136.png', 'SGA2025_J179.3999+53.3745.png', 'SGA2025_J114.2141+65.6025.png', 'SGA2025_J178.4538+52.3267.png', 'SGA2025_J178.3072+60.6755.png', 'SGA2025_J178.2060+44.1207.png', 'SGA2025_J140.5109+50.9765.png', 'SGA2025_J182.0250+65.1741.png', 'SGA2025_J182.4941+46.4571.png', 'SGA2025_J182.7682+50.4846.png', 'SGA2025_J176.5320+47.4943.png', 'SGA2025_J171.5357+43.5859.png'] \n",
      " ['J157.0930+68.4160', 'J150.4908+55.6797', 'J150.8375+68.7338', 'J192.7210+41.1204', 'J133.1722+33.4217', 'J167.4610+33.3018', 'J210.8022+54.3489', 'J228.9740+56.3287', 'J040.6696-00.0132', 'J040.4384+00.4431', 'J260.0684+57.9185', 'J267.3649+70.1447', 'J202.4695+47.2344', 'J202.4946+47.2680', 'J233.5102+56.6856', 'J180.7900+44.5313', 'J187.6509+41.6438', 'J173.3380+47.0291', 'J189.9974+61.6091', 'J111.7668+80.1780', 'J181.5047+47.4784', 'J181.3924+50.5390', 'J198.0524+44.0412', 'J198.9555+42.0292', 'J198.3644+36.5939', 'J154.5702+41.4240', 'J154.9789+45.5496', 'J196.4554+37.6058', 'J190.9905+32.1681', 'J190.5333+32.5415', 'J163.1297+36.6187', 'J137.9062+60.0372', 'J213.8919+36.2265', 'J207.3136+60.1905', 'J237.8551+62.3100', 'J094.6571+78.3570', 'J124.7666+70.7141', 'J184.3745+37.8075', 'J184.1804+69.4655', 'J184.7395+47.3039', 'J183.9132+36.3274', 'J183.9620+47.0917', 'J148.9697+69.6793', 'J148.8882+69.0653', 'J146.8150+67.9136', 'J179.3999+53.3745', 'J114.2141+65.6025', 'J178.4538+52.3267', 'J178.3072+60.6755', 'J178.2060+44.1207', 'J140.5109+50.9765', 'J182.0250+65.1741', 'J182.4941+46.4571', 'J182.7682+50.4846', 'J176.5320+47.4943', 'J171.5357+43.5859']\n",
      "#id           #filename                 galaxy     \n",
      "--- ----------------------------- -----------------\n",
      "  0 SGA2025_J157.0930+68.4160.png J157.0930+68.4160\n",
      "  1 SGA2025_J150.4908+55.6797.png J150.4908+55.6797\n",
      "  2 SGA2025_J150.8375+68.7338.png J150.8375+68.7338\n",
      "  3 SGA2025_J192.7210+41.1204.png J192.7210+41.1204\n",
      "  4 SGA2025_J133.1722+33.4217.png J133.1722+33.4217\n",
      "  5 SGA2025_J167.4610+33.3018.png J167.4610+33.3018\n",
      "  6 SGA2025_J210.8022+54.3489.png J210.8022+54.3489\n",
      "...                           ...               ...\n",
      " 49 SGA2025_J178.2060+44.1207.png J178.2060+44.1207\n",
      " 50 SGA2025_J140.5109+50.9765.png J140.5109+50.9765\n",
      " 51 SGA2025_J182.0250+65.1741.png J182.0250+65.1741\n",
      " 52 SGA2025_J182.4941+46.4571.png J182.4941+46.4571\n",
      " 53 SGA2025_J182.7682+50.4846.png J182.7682+50.4846\n",
      " 54 SGA2025_J176.5320+47.4943.png J176.5320+47.4943\n",
      " 55 SGA2025_J171.5357+43.5859.png J171.5357+43.5859\n",
      "Length = 56 rows\n"
     ]
    }
   ],
   "source": [
    "from astropy.table import Table\n",
    "import glob\n",
    "\n",
    "#creates csv table with columns = id, file name, SGA name (J___)\n",
    "id = []\n",
    "filename = []\n",
    "galaxy = []\n",
    "\n",
    "i = 0\n",
    "\n",
    "files = glob.glob('/Users/terrymechem/Downloads/SGA2025-dataset1/north/annotate/**/*.png', \n",
    "                   recursive = True)\n",
    "#not sure if there's a way to get glob to just grab the file names and not the entire path.\n",
    "#Wouldn't change much except for the annoying split on line 18 to isolate the file name\n",
    "\n",
    "for file in files:\n",
    "    id.append(i)    #the ids are arbitrary\n",
    "    a,b,c,d,e,f,g,h, name = (file.split('/'))  #a-h are throwaway variables, ignore them\n",
    "    #print(name)  #\n",
    "    filename.append(name)\n",
    "    gal = (name.strip('SGA2025_')).strip('.png')\n",
    "    #print(gal)  #\n",
    "    galaxy.append(gal)\n",
    "\n",
    "    i += 1\n",
    "\n",
    "#print(f'{id} \\n {filename} \\n {galaxy}')  #\n",
    "\n",
    "t = Table([id, filename, galaxy], names=('#id','#filename','galaxy'), meta={'name': 'SGA2025 Manifest'})\n",
    "#the #'s in the column names are an aspect of Zooniverse manifests; if there's a # or $,\n",
    "#it hides those columns from the volunteer in the subject info. I kept 'galaxy' available just in case\n",
    "\n",
    "#print(t)  #\n",
    "\n",
    "t.write('SGA2025_Manifest.csv')"
   ]
  },
  {
   "cell_type": "code",
   "execution_count": null,
   "id": "d3dae357-32c9-452d-a5f1-d3a54dd5a7b6",
   "metadata": {},
   "outputs": [],
   "source": []
  }
 ],
 "metadata": {
  "kernelspec": {
   "display_name": "Python 3 (ipykernel)",
   "language": "python",
   "name": "python3"
  },
  "language_info": {
   "codemirror_mode": {
    "name": "ipython",
    "version": 3
   },
   "file_extension": ".py",
   "mimetype": "text/x-python",
   "name": "python",
   "nbconvert_exporter": "python",
   "pygments_lexer": "ipython3",
   "version": "3.11.5"
  }
 },
 "nbformat": 4,
 "nbformat_minor": 5
}
